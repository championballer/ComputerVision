{
 "cells": [
  {
   "cell_type": "code",
   "execution_count": 93,
   "metadata": {},
   "outputs": [],
   "source": [
    "import numpy as np"
   ]
  },
  {
   "cell_type": "code",
   "execution_count": 111,
   "metadata": {},
   "outputs": [],
   "source": [
    "class point:\n",
    "    \n",
    "    \"\"\" A class for point representation in a given image\"\"\"\n",
    "    def __init__(self,x,y):\n",
    "        self.x = x\n",
    "        self.y = y\n",
    "        \n",
    "        ## Direction markers\n",
    "        self.dx = [-1,0,-1,1,1, 0, 1,-1]\n",
    "        self.dy = [0, 1, 1,0,1,-1,-1,-1]\n",
    "        self.index = [0,2,1,4,3,6,5,7]\n",
    "        \n",
    "    def adj(self,i):\n",
    "        return point(self.x+self.dx[i],self.y+self.dy[i])\n",
    "    \n",
    "    def __str__(self):\n",
    "        return \"{} , {}\".format(self.x,self.y)\n",
    "    \n",
    "    def __repr__(self):\n",
    "        return \"{} , {}\".format(self.x,self.y)"
   ]
  },
  {
   "cell_type": "code",
   "execution_count": 112,
   "metadata": {},
   "outputs": [],
   "source": [
    "start_point = point(1,1)"
   ]
  },
  {
   "cell_type": "code",
   "execution_count": 113,
   "metadata": {},
   "outputs": [],
   "source": [
    "shape = [[0,0,0,0,0,0],\n",
    "         [0,1,1,0,0,0],\n",
    "         [0,1,1,1,1,0],\n",
    "         [0,1,0,0,1,0],\n",
    "         [0,1,0,0,1,0],\n",
    "         [0,0,1,1,0,0],\n",
    "         [0,0,0,0,0,0]]"
   ]
  },
  {
   "cell_type": "code",
   "execution_count": 114,
   "metadata": {},
   "outputs": [
    {
     "data": {
      "text/plain": [
       "(7, 6)"
      ]
     },
     "execution_count": 114,
     "metadata": {},
     "output_type": "execute_result"
    }
   ],
   "source": [
    "shape = np.array(shape)\n",
    "shape.shape"
   ]
  },
  {
   "cell_type": "code",
   "execution_count": 115,
   "metadata": {},
   "outputs": [],
   "source": [
    "def check(current_point,start_point,flag,shape,visited):\n",
    "        \n",
    "    current_point_tuple = tuple((current_point.x,current_point.y))\n",
    "    if current_point_tuple in visited:\n",
    "        return False\n",
    "    elif current_point.x<0 or current_point.y<0:\n",
    "        return False\n",
    "    elif current_point.x>=shape.shape[0] or current_point.y>=shape.shape[1]:\n",
    "        return False\n",
    "    elif current_point==start_point and current_point_tuple in visited:\n",
    "        return False\n",
    "    elif shape[current_point.x][current_point.y]==0:\n",
    "        return False\n",
    "    else:\n",
    "        return True"
   ]
  },
  {
   "cell_type": "code",
   "execution_count": 116,
   "metadata": {},
   "outputs": [
    {
     "data": {
      "text/plain": [
       "False"
      ]
     },
     "execution_count": 116,
     "metadata": {},
     "output_type": "execute_result"
    }
   ],
   "source": [
    "check(point(0,1),point(1,1),0,shape,[])"
   ]
  },
  {
   "cell_type": "code",
   "execution_count": 117,
   "metadata": {},
   "outputs": [
    {
     "name": "stdout",
     "output_type": "stream",
     "text": [
      "1 , 2\n"
     ]
    }
   ],
   "source": [
    "print(start_point.adj(1))"
   ]
  },
  {
   "cell_type": "code",
   "execution_count": 118,
   "metadata": {},
   "outputs": [
    {
     "data": {
      "text/plain": [
       "1 , 2"
      ]
     },
     "execution_count": 118,
     "metadata": {},
     "output_type": "execute_result"
    }
   ],
   "source": [
    "start_point.adj(1)"
   ]
  },
  {
   "cell_type": "code",
   "execution_count": 119,
   "metadata": {},
   "outputs": [],
   "source": [
    "def cc(shape,start_point):\n",
    "    \n",
    "    \"\"\"This function returns the unnormalised chain code of the given shape\"\"\"\n",
    "    ## To start the loop from\n",
    "    current_point = start_point\n",
    "    \n",
    "    ## Visited array to maintain already visited pixels, stored as tuple to avoid reference issues\n",
    "    visited = []\n",
    "    ## To ignore the first time current_point = start_point and to mark the second time to stop the loop\n",
    "    flag = 0\n",
    "    \n",
    "    ## Unnormalised Chain Code\n",
    "    chain_code = []\n",
    "    \n",
    "    ## Business Logic\n",
    "    while check(current_point,start_point,flag,shape,visited):\n",
    "        flag = 1\n",
    "        for i in range(8):\n",
    "            next_point = current_point.adj(i)\n",
    "            \n",
    "            if next_point.x==start_point.x and next_point.y==start_point.y or check(next_point,start_point,flag,shape,visited):\n",
    "                chain_code.append(current_point.index[i])\n",
    "                visited.append(tuple((current_point.x,current_point.y)))\n",
    "                current_point = next_point\n",
    "                break    \n",
    "    \n",
    "    return chain_code"
   ]
  },
  {
   "cell_type": "code",
   "execution_count": 125,
   "metadata": {},
   "outputs": [
    {
     "name": "stdout",
     "output_type": "stream",
     "text": [
      "[2, 4, 2, 2, 4, 4, 5, 6, 7, 0, 0, 0]\n"
     ]
    }
   ],
   "source": [
    "chain_code = cc(shape,start_point)\n",
    "print(chain_code)"
   ]
  },
  {
   "cell_type": "code",
   "execution_count": 126,
   "metadata": {},
   "outputs": [],
   "source": [
    "def circular_cc(chain_code):\n",
    "    ccc = []\n",
    "    length = len(chain_code)\n",
    "    ccc.append((chain_code[0]-chain_code[length-1]+8)%8)\n",
    "    \n",
    "    for i in range(1,length):\n",
    "        ccc.append((chain_code[i]-chain_code[i-1]+8)%8)\n",
    "        \n",
    "    return ccc\n",
    "    "
   ]
  },
  {
   "cell_type": "code",
   "execution_count": 128,
   "metadata": {},
   "outputs": [
    {
     "name": "stdout",
     "output_type": "stream",
     "text": [
      "[2, 2, 6, 0, 2, 0, 1, 1, 1, 1, 0, 0]\n"
     ]
    }
   ],
   "source": [
    "circular_chain_code = circular_cc(chain_code)\n",
    "print(circular_chain_code)"
   ]
  },
  {
   "cell_type": "code",
   "execution_count": 131,
   "metadata": {},
   "outputs": [],
   "source": [
    "def normalise_cc(chain_code):\n",
    "    ncc = []\n",
    "    minpos = chain_code.index(min(chain_code))\n",
    "    length = len(chain_code)\n",
    "    for i in range(minpos,length):\n",
    "        ncc.append(chain_code[i])\n",
    "    for i in range(minpos):\n",
    "        ncc.append(chain_code[i])\n",
    "        \n",
    "    return ncc"
   ]
  },
  {
   "cell_type": "code",
   "execution_count": 132,
   "metadata": {},
   "outputs": [
    {
     "data": {
      "text/plain": [
       "[0, 2, 0, 1, 1, 1, 1, 0, 0, 2, 2, 6]"
      ]
     },
     "execution_count": 132,
     "metadata": {},
     "output_type": "execute_result"
    }
   ],
   "source": [
    "normalise_cc(circular_chain_code)"
   ]
  }
 ],
 "metadata": {
  "kernelspec": {
   "display_name": "Python 3",
   "language": "python",
   "name": "python3"
  },
  "language_info": {
   "codemirror_mode": {
    "name": "ipython",
    "version": 3
   },
   "file_extension": ".py",
   "mimetype": "text/x-python",
   "name": "python",
   "nbconvert_exporter": "python",
   "pygments_lexer": "ipython3",
   "version": "3.6.8"
  }
 },
 "nbformat": 4,
 "nbformat_minor": 2
}
