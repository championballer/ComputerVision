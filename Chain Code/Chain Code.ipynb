{
 "cells": [
  {
   "cell_type": "code",
   "execution_count": 8,
   "metadata": {},
   "outputs": [],
   "source": [
    "import numpy as np"
   ]
  },
  {
   "cell_type": "code",
   "execution_count": 1,
   "metadata": {},
   "outputs": [],
   "source": [
    "class point:\n",
    "    \n",
    "    \"\"\" A class for point representation in a given image\"\"\"\n",
    "    def __init__(self,x,y):\n",
    "        self.x = x\n",
    "        self.y = y"
   ]
  },
  {
   "cell_type": "code",
   "execution_count": 3,
   "metadata": {},
   "outputs": [],
   "source": [
    "start_point = point(1,1)"
   ]
  },
  {
   "cell_type": "code",
   "execution_count": 12,
   "metadata": {},
   "outputs": [],
   "source": [
    "shape = [[0,0,0,0,0,0],\n",
    "         [0,1,1,0,0,0],\n",
    "         [0,1,1,1,1,0],\n",
    "         [0,1,1,1,1,0],\n",
    "         [0,0,0,0,0,0]]"
   ]
  },
  {
   "cell_type": "code",
   "execution_count": 13,
   "metadata": {},
   "outputs": [
    {
     "data": {
      "text/plain": [
       "(5, 6)"
      ]
     },
     "execution_count": 13,
     "metadata": {},
     "output_type": "execute_result"
    }
   ],
   "source": [
    "shape = np.array(shape)\n",
    "shape.shape"
   ]
  },
  {
   "cell_type": "code",
   "execution_count": 17,
   "metadata": {},
   "outputs": [],
   "source": [
    "def check(current_point,start_point,flag,shape):\n",
    "    \n",
    "    if current_point.x<0 or current_point.y<0:\n",
    "        return False\n",
    "    elif current_point.x>=shape.shape[0] or current_point.y>=shape.shape[1]:\n",
    "        return False\n",
    "    elif current_point==start_point and flag==1:\n",
    "        return False\n",
    "    elif shape[current_point.x,current_point.y]==0:\n",
    "        return False\n",
    "    else:\n",
    "        return True"
   ]
  },
  {
   "cell_type": "code",
   "execution_count": 19,
   "metadata": {},
   "outputs": [
    {
     "data": {
      "text/plain": [
       "False"
      ]
     },
     "execution_count": 19,
     "metadata": {},
     "output_type": "execute_result"
    }
   ],
   "source": [
    "check(point(0,1),point(1,1),0,shape)"
   ]
  },
  {
   "cell_type": "code",
   "execution_count": null,
   "metadata": {},
   "outputs": [],
   "source": [
    "def cc(shape,start_point):\n",
    "    ## To start the loop from\n",
    "    current_point = start_point\n",
    "    \n",
    "    ## To ignore the first time current_point = start_point and to mark the second time to stop the loop\n",
    "    flag = 0\n",
    "    \n",
    "    ## Direction markers\n",
    "    dx = [-1,-1,0,1,1,1,0,-1]\n",
    "    dy = [0,1,1,1,0,-1,-1,-1]\n",
    "    \n",
    "    ## Unnormalised Chain Code\n",
    "    chain_code = []\n",
    "    \n",
    "    ## Business Logic\n",
    "    while check(current_point,start_point,flag,shape):\n",
    "        for i in range(8):\n",
    "            n_x = c_x+dx[i]\n",
    "            n_y = c_y+dy[i]\n",
    "            \n",
    "            if shape[n_x][n_y]==1:\n",
    "                "
   ]
  }
 ],
 "metadata": {
  "kernelspec": {
   "display_name": "Python 3",
   "language": "python",
   "name": "python3"
  },
  "language_info": {
   "codemirror_mode": {
    "name": "ipython",
    "version": 3
   },
   "file_extension": ".py",
   "mimetype": "text/x-python",
   "name": "python",
   "nbconvert_exporter": "python",
   "pygments_lexer": "ipython3",
   "version": "3.6.8"
  }
 },
 "nbformat": 4,
 "nbformat_minor": 2
}
