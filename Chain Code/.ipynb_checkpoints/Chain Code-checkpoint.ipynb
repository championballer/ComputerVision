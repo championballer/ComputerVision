{
 "cells": [
  {
   "cell_type": "code",
   "execution_count": 2,
   "metadata": {},
   "outputs": [],
   "source": [
    "import numpy as np"
   ]
  },
  {
   "cell_type": "code",
   "execution_count": 3,
   "metadata": {},
   "outputs": [],
   "source": [
    "class point:\n",
    "    \n",
    "    \"\"\" A class for point representation in a given image\"\"\"\n",
    "    def __init__(self,x,y):\n",
    "        self.x = x\n",
    "        self.y = y\n",
    "        self.visited = False\n",
    "        \n",
    "        ## Direction markers\n",
    "        self.dx = [-1,0,-1,1,1, 0, 1,-1]\n",
    "        self.dy = [0, 1, 1,0,1,-1,-1,-1]\n",
    "        \n",
    "    def adj(self,i):\n",
    "        return point(self.x+self.dx[i],self.y+self.dy[i])\n",
    "    \n",
    "    def __str__(self):\n",
    "        return \"{} , {}\".format(self.x,self.y)\n",
    "    \n",
    "    def __repr__(self):\n",
    "        return \"{} , {}\".format(self.x,self.y)"
   ]
  },
  {
   "cell_type": "code",
   "execution_count": 4,
   "metadata": {},
   "outputs": [],
   "source": [
    "start_point = point(1,1)"
   ]
  },
  {
   "cell_type": "code",
   "execution_count": 5,
   "metadata": {},
   "outputs": [],
   "source": [
    "shape = [[0,0,0,0,0,0],\n",
    "         [0,1,1,0,0,0],\n",
    "         [0,1,1,1,1,0],\n",
    "         [0,1,0,0,1,0],\n",
    "         [0,1,0,0,1,0],\n",
    "         [0,1,1,1,1,0],\n",
    "         [0,0,0,0,0,0]]"
   ]
  },
  {
   "cell_type": "code",
   "execution_count": 6,
   "metadata": {},
   "outputs": [
    {
     "data": {
      "text/plain": [
       "(7, 6)"
      ]
     },
     "execution_count": 6,
     "metadata": {},
     "output_type": "execute_result"
    }
   ],
   "source": [
    "shape = np.array(shape)\n",
    "shape.shape"
   ]
  },
  {
   "cell_type": "code",
   "execution_count": 7,
   "metadata": {},
   "outputs": [],
   "source": [
    "def check(current_point,start_point,flag,shape):\n",
    "    \n",
    "    if current_point.x<0 or current_point.y<0:\n",
    "        return False\n",
    "    elif current_point.x>=shape.shape[0] or current_point.y>=shape.shape[1]:\n",
    "        return False\n",
    "    elif current_point==start_point and current_point.visited==True:\n",
    "        return False\n",
    "    elif current_point.visited==True:\n",
    "        return False\n",
    "    elif shape[current_point.x][current_point.y]==0:\n",
    "        return False\n",
    "    else:\n",
    "        return True"
   ]
  },
  {
   "cell_type": "code",
   "execution_count": 8,
   "metadata": {},
   "outputs": [
    {
     "data": {
      "text/plain": [
       "False"
      ]
     },
     "execution_count": 8,
     "metadata": {},
     "output_type": "execute_result"
    }
   ],
   "source": [
    "check(point(0,1),point(1,1),0,shape)"
   ]
  },
  {
   "cell_type": "code",
   "execution_count": 9,
   "metadata": {},
   "outputs": [
    {
     "name": "stdout",
     "output_type": "stream",
     "text": [
      "1 , 2\n"
     ]
    }
   ],
   "source": [
    "print(start_point.adj(1))"
   ]
  },
  {
   "cell_type": "code",
   "execution_count": 10,
   "metadata": {},
   "outputs": [
    {
     "data": {
      "text/plain": [
       "1 , 2"
      ]
     },
     "execution_count": 10,
     "metadata": {},
     "output_type": "execute_result"
    }
   ],
   "source": [
    "start_point.adj(1)"
   ]
  },
  {
   "cell_type": "code",
   "execution_count": null,
   "metadata": {},
   "outputs": [],
   "source": [
    "def cc(shape,start_point):\n",
    "    \n",
    "    \"\"\"This function returns the unnormalised chain code of the given shape\"\"\"\n",
    "    ## To start the loop from\n",
    "    current_point = start_point\n",
    "    \n",
    "    ## To ignore the first time current_point = start_point and to mark the second time to stop the loop\n",
    "    flag = 0\n",
    "    \n",
    "    ## Unnormalised Chain Code\n",
    "    chain_code = []\n",
    "    \n",
    "    ## Business Logic\n",
    "    while check(current_point,start_point,flag,shape):\n",
    "        print(current_point)\n",
    "        flag = 1\n",
    "        for i in range(8):\n",
    "            next_point = current_point.adj(i)\n",
    "            #print(\"next:\",next_point)\n",
    "            if check(next_point,start_point,flag,shape):\n",
    "                chain_code.append(i)\n",
    "                current_point.visited=True\n",
    "                current_point = next_point\n",
    "                break\n",
    "                \n",
    "    return chain_code"
   ]
  },
  {
   "cell_type": "code",
   "execution_count": null,
   "metadata": {},
   "outputs": [],
   "source": []
  }
 ],
 "metadata": {
  "kernelspec": {
   "display_name": "Python 3",
   "language": "python",
   "name": "python3"
  },
  "language_info": {
   "codemirror_mode": {
    "name": "ipython",
    "version": 3
   },
   "file_extension": ".py",
   "mimetype": "text/x-python",
   "name": "python",
   "nbconvert_exporter": "python",
   "pygments_lexer": "ipython3",
   "version": "3.6.8"
  }
 },
 "nbformat": 4,
 "nbformat_minor": 2
}
